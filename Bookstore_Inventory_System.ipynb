{
  "cells": [
    {
      "cell_type": "code",
      "execution_count": 13,
      "metadata": {
        "id": "wULJw0v74-gy"
      },
      "outputs": [],
      "source": [
        "#Importing Libraries\n",
        "import pickle\n",
        "from prettytable import PrettyTable\n",
        "import sqlite3"
      ]
    },
    {
      "cell_type": "code",
      "source": [
        "class Book:\n",
        "    def __init__(self, title, author, isbn, price, quantity):\n",
        "        self.title = title\n",
        "        self.author = author\n",
        "        self.isbn = isbn\n",
        "        self.price = price\n",
        "        self.quantity = quantity\n",
        "\n",
        "class Bookstore:\n",
        "    def __init__(self):\n",
        "        self.inventory = []\n",
        "\n",
        "    def add_book(self, title, author, isbn, price, quantity):\n",
        "        book = Book(title, author, isbn, price, quantity)\n",
        "        self.inventory.append(book)\n",
        "        print(f\"\\tAdded '{title}' to the inventory.\")\n",
        "\n",
        "    def view_inventory(self):\n",
        "        if not self.inventory:\n",
        "            print(\"\\tInventory is empty.\")\n",
        "        else:\n",
        "            print(\"\\tBook Inventory:\")\n",
        "            for idx, book in enumerate(self.inventory, start=1):\n",
        "                print(f\"\\t{idx}. Title: {book.title}, Author: {book.author}, ISBN: {book.isbn}, Price: ${book.price}, Quantity: {book.quantity}\")\n",
        "\n",
        "    def search_book(self, title):\n",
        "        found_books = [book for book in self.inventory if title.lower() in book.title.lower()]\n",
        "        if found_books:\n",
        "            print(f\"\\tFound {len(found_books)} book(s) matching '{title}':\")\n",
        "            for idx, book in enumerate(found_books, start=1):\n",
        "                print(f\"\\t{idx}. Title: {book.title}, Author: {book.author}, ISBN: {book.isbn}, Price: ${book.price}, Quantity: {book.quantity}\")\n",
        "        else:\n",
        "            print(f\"\\tNo books found with '{title}' in the title.\")\n",
        "\n",
        "    def edit_book(self, title):\n",
        "        found_books = [book for book in self.inventory if title.lower() in book.title.lower()]\n",
        "        if found_books:\n",
        "            print(f\"\\tFound {len(found_books)} book(s) matching '{title}':\")\n",
        "            for idx, book in enumerate(found_books, start=1):\n",
        "                print(f\"\\t{idx}. Title: {book.title}, Author: {book.author}, ISBN: {book.isbn}, Price: ${book.price}, Quantity: {book.quantity}\")\n",
        "            book_index = int(input(\"Enter the number of the book to edit: \")) - 1\n",
        "            if 0 <= book_index < len(found_books):\n",
        "                book = found_books[book_index]\n",
        "                new_quantity = int(input(\"Enter new quantity: \"))\n",
        "                book.quantity = new_quantity\n",
        "                print(f\"\\tUpdated quantity for '{book.title}' to {new_quantity}.\")\n",
        "            else:\n",
        "                print(\"\\tInvalid book number.\")\n",
        "        else:\n",
        "            print(f\"\\tNo books found with '{title}' in the title.\")\n",
        "\n",
        "    def delete_book(self, title):\n",
        "        found_books = [book for book in self.inventory if title.lower() in book.title.lower()]\n",
        "        if found_books:\n",
        "            print(f\"\\tFound {len(found_books)} book(s) matching '{title}':\")\n",
        "            for idx, book in enumerate(found_books, start=1):\n",
        "                print(f\"\\t{idx}. Title: {book.title}, Author: {book.author}, ISBN: {book.isbn}, Price: ${book.price}, Quantity: {book.quantity}\")\n",
        "            book_index = int(input(\"Enter the number of the book to delete: \")) - 1\n",
        "            if 0 <= book_index < len(found_books):\n",
        "                deleted_book = self.inventory.pop(self.inventory.index(found_books[book_index]))\n",
        "                print(f\"\\tDeleted '{deleted_book.title}' from the inventory.\")\n",
        "            else:\n",
        "                print(\"\\tInvalid book number.\")\n",
        "        else:\n",
        "            print(f\"\\tNo books found with '{title}' in the title.\")"
      ],
      "metadata": {
        "id": "tW7APmE25mMn"
      },
      "execution_count": 7,
      "outputs": []
    },
    {
      "cell_type": "code",
      "source": [
        "class FileHandler:\n",
        "    @staticmethod\n",
        "    def save_inventory_to_file(filename, inventory):\n",
        "        with open(filename, 'wb') as file:\n",
        "            pickle.dump(inventory, file)\n",
        "\n",
        "    @staticmethod\n",
        "    def load_inventory_from_file(filename):\n",
        "        try:\n",
        "            with open(filename, 'rb') as file:\n",
        "                inventory = pickle.load(file)\n",
        "            return inventory\n",
        "        except FileNotFoundError:\n",
        "            return []"
      ],
      "metadata": {
        "id": "ZPghP6Wb6eZs"
      },
      "execution_count": 8,
      "outputs": []
    },
    {
      "cell_type": "code",
      "source": [
        "class BookstoreManager:\n",
        "    def __init__(self, inventory_file):\n",
        "        self.inventory_file = inventory_file\n",
        "        self.bookstore = Bookstore()\n",
        "\n",
        "    def load_inventory(self):\n",
        "        self.bookstore.inventory = FileHandler.load_inventory_from_file(self.inventory_file)\n",
        "        print(f\"\\tInventory loaded from '{self.inventory_file}'.\")\n",
        "\n",
        "    def save_inventory(self):\n",
        "        FileHandler.save_inventory_to_file(self.inventory_file, self.bookstore.inventory)\n",
        "        print(f\"\\tInventory saved to '{self.inventory_file}'.\")"
      ],
      "metadata": {
        "id": "r_X3Viaj6fzX"
      },
      "execution_count": 9,
      "outputs": []
    },
    {
      "cell_type": "code",
      "source": [
        "def print_inventory_table(inventory):\n",
        "    if not inventory:\n",
        "        print(\"\\tInventory is empty.\")\n",
        "    else:\n",
        "        table = PrettyTable()\n",
        "        table.field_names = [\"#\", \"Title\", \"Author\", \"ISBN\", \"Price\", \"Quantity\"]\n",
        "        for idx, book in enumerate(inventory, start=1):\n",
        "            table.add_row([idx, book.title, book.author, book.isbn, f\"${book.price}\", book.quantity])\n",
        "        print(table)"
      ],
      "metadata": {
        "id": "8A2nNyDh6jV-"
      },
      "execution_count": 10,
      "outputs": []
    },
    {
      "cell_type": "code",
      "source": [
        "def main():\n",
        "    inventory_file = \"inventory.pkl\"\n",
        "    manager = BookstoreManager(inventory_file)\n",
        "\n",
        "    while True:\n",
        "        print(\"\\t\")\n",
        "        print(\"\\t-----------------------------------------\")\n",
        "        print(\"\\t Bookstore Inventory Management System\")\n",
        "        print(\"\\t ----------------------------------------- \\n\")\n",
        "        print(\"\\t 1. Add a book to the inventory\")\n",
        "        print(\"\\t 2. View inventory\")\n",
        "        print(\"\\t 3. Search for a book by title\")\n",
        "        print(\"\\t 4. Edit a book\")\n",
        "        print(\"\\t 5. Delete a book\")\n",
        "        print(\"\\t 6. Load inventory from file\")\n",
        "        print(\"\\t 7. Save inventory to file\")\n",
        "        print(\"\\t 8. Quit\")\n",
        "        print(\"\\t -----------------------------------------\")\n",
        "\n",
        "        choice = input(\"\\t Enter your choice: \")\n",
        "\n",
        "        if choice == \"1\":\n",
        "            title = input(\"\\t Enter book title: \")\n",
        "            author = input(\"\\t Enter author: \")\n",
        "            isbn = input(\"\\t Enter ISBN: \")\n",
        "            price = float(input(\"\\t Enter price: \"))\n",
        "            quantity = int(input(\"\\t Enter quantity: \"))\n",
        "            manager.bookstore.add_book(title, author, isbn, price, quantity)\n",
        "        elif choice == \"2\":\n",
        "            print_inventory_table(manager.bookstore.inventory)\n",
        "        elif choice == \"3\":\n",
        "            title = input(\"Enter the title to search for: \")\n",
        "            manager.bookstore.search_book(title)\n",
        "        elif choice == \"4\":\n",
        "            title = input(\"Enter the title of the book to edit: \")\n",
        "            manager.bookstore.edit_book(title)\n",
        "        elif choice == \"5\":\n",
        "            title = input(\"Enter the title of the book to delete: \")\n",
        "            manager.bookstore.delete_book(title)\n",
        "        elif choice == \"6\":\n",
        "            manager.load_inventory()\n",
        "        elif choice == \"7\":\n",
        "            manager.save_inventory()\n",
        "        elif choice == \"8\":\n",
        "            print(\"\\tGoodbye!\")\n",
        "            break\n",
        "        else:\n",
        "            print(\"\\tInvalid choice. Please try again.\")\n"
      ],
      "metadata": {
        "id": "H2oUO0OO6sYZ"
      },
      "execution_count": 11,
      "outputs": []
    },
    {
      "cell_type": "code",
      "source": [
        "#Calling the function for inputing the details\n",
        "if __name__ == \"__main__\":\n",
        "    main()"
      ],
      "metadata": {
        "colab": {
          "base_uri": "https://localhost:8080/"
        },
        "id": "CLAgpHhE6tPR",
        "outputId": "42b52576-7724-45e8-9e70-068cfaec6348"
      },
      "execution_count": 12,
      "outputs": [
        {
          "output_type": "stream",
          "name": "stdout",
          "text": [
            "\t\n",
            "\t-----------------------------------------\n",
            "\t Bookstore Inventory Management System\n",
            "\t ----------------------------------------- \n",
            "\n",
            "\t 1. Add a book to the inventory\n",
            "\t 2. View inventory\n",
            "\t 3. Search for a book by title\n",
            "\t 4. Edit a book\n",
            "\t 5. Delete a book\n",
            "\t 6. Load inventory from file\n",
            "\t 7. Save inventory to file\n",
            "\t 8. Quit\n",
            "\t -----------------------------------------\n",
            "\t Enter your choice: 8\n",
            "\tGoodbye!\n"
          ]
        }
      ]
    }
  ],
  "metadata": {
    "colab": {
      "provenance": []
    },
    "kernelspec": {
      "display_name": "Python 3",
      "name": "python3"
    },
    "language_info": {
      "name": "python"
    }
  },
  "nbformat": 4,
  "nbformat_minor": 0
}